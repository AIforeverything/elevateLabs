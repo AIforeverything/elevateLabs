{
 "cells": [
  {
   "cell_type": "markdown",
   "id": "5b70ce71",
   "metadata": {},
   "source": [
    "## creating sqlite3 database using python"
   ]
  },
  {
   "cell_type": "code",
   "execution_count": 1,
   "id": "987cde2d",
   "metadata": {},
   "outputs": [
    {
     "name": "stdout",
     "output_type": "stream",
     "text": [
      "Database sales_data.db is created with sales table\n"
     ]
    },
    {
     "data": {
      "text/plain": [
       "'sales_data.db'"
      ]
     },
     "execution_count": 1,
     "metadata": {},
     "output_type": "execute_result"
    }
   ],
   "source": [
    "import sqlite3\n",
    "\n",
    "def makingDatabaseWithTable(name):\n",
    "    #connect or create database if doesn't exit\n",
    "    connection=sqlite3.connect(name) \n",
    "    cursor=connection.cursor()\n",
    "\n",
    "    #creating the table of database\n",
    "    cursor.execute('''\n",
    "    CREATE TABLE sales(\n",
    "                   ID integer primary key autoincrement,\n",
    "                   date text,\n",
    "                   product text,\n",
    "                   quantity integer,\n",
    "                   price real\n",
    "                   )\n",
    "    '''\n",
    "    )\n",
    "    #commiting changes\n",
    "    connection.commit()\n",
    "    #closing connection\n",
    "    \n",
    "    print(f\"Database {name} is created with sales table\")\n",
    "    data = [\n",
    "    ('2025-01-01', 'A', 20, 19.12),\n",
    "    ('2025-02-01', 'B', 5, 24.35),\n",
    "    ('2025-03-01', 'A', 7, 16.25)\n",
    "    ]\n",
    "\n",
    "    cursor.executemany('INSERT INTO sales (date, product, quantity, price) VALUES (?, ?, ?, ?)',data)\n",
    "    \n",
    "    return name\n",
    "\n",
    "makingDatabaseWithTable(\"sales_data.db\")"
   ]
  },
  {
   "cell_type": "markdown",
   "id": "4b5de62f",
   "metadata": {},
   "source": [
    "## function to add data to sales table"
   ]
  },
  {
   "cell_type": "code",
   "execution_count": 3,
   "id": "9ba15665",
   "metadata": {},
   "outputs": [
    {
     "data": {
      "text/plain": [
       "'sales_data.db'"
      ]
     },
     "execution_count": 3,
     "metadata": {},
     "output_type": "execute_result"
    }
   ],
   "source": [
    "def insertingDataToSalesTable(name):\n",
    "    connection=sqlite3.connect(name) \n",
    "    cursor=connection.cursor()\n",
    "    data = [\n",
    "    ('2025-01-01', 'A', 20, 19.12),\n",
    "    ('2025-02-01', 'B', 5, 24.35),\n",
    "    ('2025-03-01', 'A', 7, 16.25)\n",
    "    ]\n",
    "\n",
    "    cursor.executemany('INSERT INTO sales (date, product, quantity, price) VALUES (?, ?, ?, ?)',data)\n",
    "    return name\n",
    "\n",
    "insertingDataToSalesTable(\"sales_data.db\")"
   ]
  },
  {
   "cell_type": "code",
   "execution_count": null,
   "id": "05f89dac",
   "metadata": {},
   "outputs": [],
   "source": []
  },
  {
   "cell_type": "code",
   "execution_count": 2,
   "id": "97d2b1b9",
   "metadata": {},
   "outputs": [
    {
     "name": "stdout",
     "output_type": "stream",
     "text": [
      "Total Sales per Product:\n"
     ]
    },
    {
     "data": {
      "image/png": "[encoded data removed]",
      "text/plain": [
       "<Figure size 800x500 with 1 Axes>"
      ]
     },
     "metadata": {},
     "output_type": "display_data"
    }
   ],
   "source": [
    "import sqlite3\n",
    "import matplotlib.pyplot as plt\n",
    "\n",
    "# Connect to the SQLite database\n",
    "conn = sqlite3.connect('sales_data.db')\n",
    "cursor = conn.cursor()\n",
    "\n",
    "# Query 1: Total revenue per product\n",
    "cursor.execute('''\n",
    "SELECT product, SUM(quantity * price) as total_sales\n",
    "FROM sales\n",
    "GROUP BY product\n",
    "''')\n",
    "sales_data = cursor.fetchall()\n",
    "\n",
    "print(\"Total Sales per Product:\")\n",
    "for product, total in sales_data:\n",
    "    print(f\"{product}: ${total:.2f}\")\n",
    "\n",
    "# Query 2: Total quantity sold per product\n",
    "cursor.execute('''\n",
    "SELECT product, SUM(quantity) as total_quantity\n",
    "FROM sales\n",
    "GROUP BY product\n",
    "''')\n",
    "quantity_data = cursor.fetchall()\n",
    "\n",
    "# Close connection\n",
    "conn.close()\n",
    "\n",
    "# Plotting sales revenue\n",
    "products = [row[0] for row in sales_data]\n",
    "totals = [row[1] for row in sales_data]\n",
    "\n",
    "plt.figure(figsize=(8, 5))\n",
    "plt.bar(products, totals, color='skyblue')\n",
    "plt.title(\"Total Sales Revenue per Product\")\n",
    "plt.xlabel(\"Product\")\n",
    "plt.ylabel(\"Revenue ($)\")\n",
    "plt.tight_layout()\n",
    "plt.show()\n"
   ]
  },
  {
   "cell_type": "code",
   "execution_count": 1,
   "id": "f22867ac",
   "metadata": {},
   "outputs": [
    {
     "name": "stdout",
     "output_type": "stream",
     "text": [
      "Database 'sales_data.db' with table 'sales' created successfully.\n"
     ]
    },
    {
     "data": {
      "text/plain": [
       "<sqlite3.Cursor at 0x18bc31c6b40>"
      ]
     },
     "execution_count": 1,
     "metadata": {},
     "output_type": "execute_result"
    }
   ],
   "source": [
    "import sqlite3\n",
    "\n",
    "# Connect to (or create) the database\n",
    "conn = sqlite3.connect('sales_data.db')\n",
    "cursor = conn.cursor()\n",
    "\n",
    "# Create the sales table\n",
    "cursor.execute('''\n",
    "CREATE TABLE sales (\n",
    "    id INTEGER PRIMARY KEY AUTOINCREMENT,\n",
    "    date TEXT NOT NULL,\n",
    "    product TEXT NOT NULL,\n",
    "    quantity INTEGER NOT NULL,\n",
    "    price REAL NOT NULL\n",
    ")\n",
    "''')\n",
    "\n",
    "# Commit changes and close connection\n",
    "conn.commit()\n",
    "# conn.close()\n",
    "\n",
    "print(\"Database 'sales_data.db' with table 'sales' created successfully.\")\n",
    "\n",
    "sample_data = [\n",
    "    ('2025-04-01', 'Widget A', 10, 19.99),\n",
    "    ('2025-04-02', 'Widget B', 5, 24.99),\n",
    "    ('2025-04-03', 'Widget A', 7, 19.99)\n",
    "]\n",
    "\n",
    "cursor.executemany('INSERT INTO sales (date, product, quantity, price) VALUES (?, ?, ?, ?)', sample_data)\n",
    "\n"
   ]
  },
  {
   "cell_type": "code",
   "execution_count": 2,
   "id": "8110db75",
   "metadata": {},
   "outputs": [
    {
     "name": "stdout",
     "output_type": "stream",
     "text": [
      "Total Sales per Product:\n"
     ]
    },
    {
     "data": {
      "image/png": "[encoded data removed]",
      "text/plain": [
       "<Figure size 800x500 with 1 Axes>"
      ]
     },
     "metadata": {},
     "output_type": "display_data"
    }
   ],
   "source": [
    "import sqlite3\n",
    "import matplotlib.pyplot as plt\n",
    "\n",
    "# Connect to the SQLite database\n",
    "conn = sqlite3.connect('sales_data.db')\n",
    "cursor = conn.cursor()\n",
    "\n",
    "# Query 1: Total revenue per product\n",
    "cursor.execute('''\n",
    "SELECT product, SUM(quantity * price) as total_sales\n",
    "FROM sales\n",
    "GROUP BY product\n",
    "''')\n",
    "sales_data = cursor.fetchall()\n",
    "\n",
    "print(\"Total Sales per Product:\")\n",
    "for product, total in sales_data:\n",
    "    print(f\"{product}: ${total:.2f}\")\n",
    "\n",
    "# Query 2: Total quantity sold per product\n",
    "cursor.execute('''\n",
    "SELECT product, SUM(quantity) as total_quantity\n",
    "FROM sales\n",
    "GROUP BY product\n",
    "''')\n",
    "quantity_data = cursor.fetchall()\n",
    "\n",
    "# Close connection\n",
    "conn.close()\n",
    "\n",
    "# Plotting sales revenue\n",
    "products = [row[0] for row in sales_data]\n",
    "totals = [row[1] for row in sales_data]\n",
    "\n",
    "plt.figure(figsize=(8, 5))\n",
    "plt.bar(products, totals, color='skyblue')\n",
    "plt.title(\"Total Sales Revenue per Product\")\n",
    "plt.xlabel(\"Product\")\n",
    "plt.ylabel(\"Revenue ($)\")\n",
    "plt.tight_layout()\n",
    "plt.show()\n"
   ]
  }
 ],
 "metadata": {
  "kernelspec": {
   "display_name": "Python 3",
   "language": "python",
   "name": "python3"
  },
  "language_info": {
   "codemirror_mode": {
    "name": "ipython",
    "version": 3
   },
   "file_extension": ".py",
   "mimetype": "text/x-python",
   "name": "python",
   "nbconvert_exporter": "python",
   "pygments_lexer": "ipython3",
   "version": "3.12.0"
  }
 },
 "nbformat": 4,
 "nbformat_minor": 5
}
